{
  "nbformat": 4,
  "nbformat_minor": 0,
  "metadata": {
    "colab": {
      "name": "powerlink crawler.ipynb",
      "provenance": [],
      "collapsed_sections": [],
      "toc_visible": true,
      "authorship_tag": "ABX9TyN2pJ5BopYP82VVMkENWO8r",
      "include_colab_link": true
    },
    "kernelspec": {
      "name": "python3",
      "display_name": "Python 3"
    },
    "language_info": {
      "name": "python"
    }
  },
  "cells": [
    {
      "cell_type": "markdown",
      "metadata": {
        "id": "view-in-github",
        "colab_type": "text"
      },
      "source": [
        "<a href=\"https://colab.research.google.com/github/yena-lena/data-analysis/blob/master/powerlink_crawler.ipynb\" target=\"_parent\"><img src=\"https://colab.research.google.com/assets/colab-badge.svg\" alt=\"Open In Colab\"/></a>"
      ]
    },
    {
      "cell_type": "code",
      "execution_count": null,
      "metadata": {
        "colab": {
          "base_uri": "https://localhost:8080/"
        },
        "id": "z2l8YIS6srBp",
        "outputId": "a81ccf0f-5c69-491e-9526-cd00c8d6d4c7"
      },
      "outputs": [
        {
          "output_type": "stream",
          "name": "stdout",
          "text": [
            "Requirement already satisfied: beautifulsoup4 in /usr/local/lib/python3.7/dist-packages (4.6.3)\n"
          ]
        }
      ],
      "source": [
        "!pip install beautifulsoup4"
      ]
    },
    {
      "cell_type": "markdown",
      "source": [
        "# bs 크롤링"
      ],
      "metadata": {
        "id": "P5L181ARyvso"
      }
    },
    {
      "cell_type": "code",
      "source": [
        "# 라이브러리 설치\n",
        "import csv\n",
        "import requests\n",
        "from urllib.request import urlopen\n",
        "from urllib.parse import quote_plus\n",
        "from bs4 import BeautifulSoup"
      ],
      "metadata": {
        "id": "i1ojNda0I8It"
      },
      "execution_count": 1,
      "outputs": []
    },
    {
      "cell_type": "markdown",
      "source": [
        "**quote_plus** : URL에 한글이 포함되어있는 경우, 한글이 깨지는 것을 해결하기 위해 사용한다.\n",
        "\n",
        "\n",
        "> urllib.parse.quote_plus(string, safe='', encoding=None, errors=None)\n",
        "quote()와 유사하지만, URL로 이동하기 위한 쿼리 문자열을 만들 때 HTML 폼값을 인용하는 데 필요한 대로 스페이스를 더하기 부호로 치환하기도 합니다. safe에 포함되지 않으면 원래 문자열의 더하기 부호가 이스케이프 됩니다. 또한 safe의 기본값은 '/'가 아닙니다.\n",
        "\n",
        "예: quote_plus('/El Niño/')는 '%2FEl+Ni%C3%B1o%2F'를 산출합니다.\n",
        "\n",
        "\n",
        "\n",
        "[참고] https://docs.python.org/ko/3.8/library/urllib.parse.html#url-quoting"
      ],
      "metadata": {
        "id": "qUrWn4A1PuS1"
      }
    },
    {
      "cell_type": "code",
      "source": [
        "url = 'https://ad.search.naver.com/search.naver?where=ad&x=0&y=0&query=' ## 파워링크 기본 url\n",
        "keyword = input(\"크롤링할 키워드를 입력하세요 =>\")\n",
        "#keywords = input(\"크롤링할 키워드를 띄어쓰기로 구분해 입력하세요\").split(\" \")\n",
        "base_url = url+quote_plus(keyword)\n",
        "\n",
        "response = requests.get(base_url)\n",
        "\n",
        "# 방법 2\n",
        "if response.status_code == 200:\n",
        "  soup = BeautifulSoup(response.content, 'html.parser')"
      ],
      "metadata": {
        "colab": {
          "base_uri": "https://localhost:8080/"
        },
        "id": "vLBl9yFjQxR0",
        "outputId": "17487926-b503-49ec-ceed-0fa77c40a7c4"
      },
      "execution_count": 3,
      "outputs": [
        {
          "name": "stdout",
          "output_type": "stream",
          "text": [
            "크롤링할 키워드를 입력하세요 =>ITQ 자격증\n"
          ]
        }
      ]
    },
    {
      "cell_type": "markdown",
      "source": [
        "**참고** 이유는 모르겠지만, colab에서 크롤링하는거랑 로컬에서 크롤링하는거랑 검색 결과가 다르다 ㅠㅠ "
      ],
      "metadata": {
        "id": "eJgM94xBPeWu"
      }
    },
    {
      "cell_type": "markdown",
      "source": [
        "# 데이터 처리 및 가공"
      ],
      "metadata": {
        "id": "BU4FR9NNR1qL"
      }
    },
    {
      "cell_type": "code",
      "source": [
        "# 라이브러리 설치\n",
        "import re"
      ],
      "metadata": {
        "id": "M-_dNU-J0Ido"
      },
      "execution_count": 4,
      "outputs": []
    },
    {
      "cell_type": "code",
      "source": [
        "# soup.find_all(re.compile(\"[ol]\"))\n",
        "items = soup.find_all(attrs={'class':'lnk_tit'})\n",
        "\n",
        "i=1\n",
        "for item in items[:10]:#10위까지만 탐색\n",
        "  temp = []\n",
        "  serial = item.get_text()\n",
        "  \n",
        "  print(i,serial)\n",
        "  i = i+1"
      ],
      "metadata": {
        "colab": {
          "base_uri": "https://localhost:8080/"
        },
        "id": "6el5SRSa29jy",
        "outputId": "f2ae2ec2-eeff-40dc-f5ae-3427d0473e3f"
      },
      "execution_count": 5,
      "outputs": [
        {
          "output_type": "stream",
          "name": "stdout",
          "text": [
            "1 이젠아카데미컴퓨터학원 ITQ\n",
            "2 한 번에 끝내는 엑셀 실무\n",
            "3 TAT1,2급 인터넷강의\n",
            "4 자격증 1위 해커스 ITQ\n",
            "5 ITQ자격증 컴알\n",
            "6 ITQ자격증 모든에듀\n",
            "7 서울사이버대학교 컴퓨터공학과\n",
            "8 티몬 ITQ자격증\n",
            "9 ITQ자격증 컴스쿨닷컴\n",
            "10 쿠팡 ITQ자격증\n"
          ]
        }
      ]
    },
    {
      "cell_type": "markdown",
      "source": [
        ""
      ],
      "metadata": {
        "id": "n-X_dPMFZx3g"
      }
    },
    {
      "cell_type": "code",
      "source": [
        "h1 = soup.find(id=\"content\")\n",
        "items = h1.find_all(\"li\",{\"class\":\"ext_price\"})"
      ],
      "metadata": {
        "id": "TAG5BVMDNJNI"
      },
      "execution_count": null,
      "outputs": []
    },
    {
      "cell_type": "code",
      "source": [
        "h1 = soup.find(id=\"content\")\n",
        "items = h1.find_all(\"a\",{\"class\":\"lnk_tit\"})"
      ],
      "metadata": {
        "id": "gjXc-50pzsGK"
      },
      "execution_count": null,
      "outputs": []
    },
    {
      "cell_type": "code",
      "source": [
        "rank = 1\n",
        "temp = []\n",
        "for item in items[:10]:\n",
        "  serial = item.get_text()\n",
        "  print(serial[:15])\n",
        "  if \"에듀윌\" in serial:\n",
        "    temp.append(rank)\n",
        "  rank = rank +1"
      ],
      "metadata": {
        "colab": {
          "base_uri": "https://localhost:8080/"
        },
        "id": "PrruXp2-0nsK",
        "outputId": "c4712052-c1c3-4e91-8da4-b6efcb6e3bd7"
      },
      "execution_count": null,
      "outputs": [
        {
          "output_type": "stream",
          "name": "stdout",
          "text": [
            "이젠아카데미컴퓨터학원 ITQ\n",
            "ITQ자격증 기사퍼스트\n",
            "한 번에 끝내는 엑셀 실무\n",
            "TAT1,2급 인터넷강의\n",
            "ITQ자격증 컴알\n",
            "ITQ자격증 모든에듀\n",
            "서울사이버대학교 컴퓨터공학과\n",
            "쿠팡 ITQ자격증\n",
            "티몬 ITQ자격증\n",
            "ITQ자격증 컴스쿨닷컴\n"
          ]
        }
      ]
    },
    {
      "cell_type": "code",
      "source": [
        "keyword = [\"국가지원교육\", \"ITQ 자격증\"]\n",
        "find = \"에듀윌\"\n",
        "url = 'https://ad.search.naver.com/search.naver?where=ad&x=0&y=0&query='\n",
        "#base_url = \"https://ad.search.naver.com/search.naver?where=ad&query=ITQ%EC%9E%90%EA%B2%A9%EC%A6%9D&x=0&y=0\"\n",
        "#url= \"https://ad.search.naver.com/search.naver?where=ad&query=%EA%B5%AD%EA%B0%80%EC%A7%80%EC%9B%90%EA%B5%90%EC%9C%A1&x=0&y=0\"\n",
        "base_url = url+quote_plus(keyword[0])\n",
        "\n",
        "response = requests.get(base_url)\n",
        "\n",
        "# 방법\n",
        "if response.status_code == 200:\n",
        "  soup = BeautifulSoup(response.content, 'html.parser')\n",
        "\n",
        "# 분류\n",
        "import re\n",
        "# soup.find_all(re.compile(\"[ol]\"))\n",
        "items = soup.find_all(attrs={'class':'lnk_tit'})\n",
        "\n",
        "\n",
        "for item in items[:10]:#10위까지만 탐색\n",
        "  temp = []\n",
        "  serial = item.get_text()\n",
        "  # print(serial[:10])\n",
        "  if \"에듀윌\" in serial:\n",
        "    temp.append(rank)\n",
        "\n",
        "print(temp)"
      ],
      "metadata": {
        "colab": {
          "base_uri": "https://localhost:8080/"
        },
        "id": "OhmjeyJWg_IT",
        "outputId": "76ef43c6-8c68-4199-e85a-c94843c0e2bf"
      },
      "execution_count": null,
      "outputs": [
        {
          "output_type": "stream",
          "name": "stdout",
          "text": [
            "[]\n"
          ]
        }
      ]
    },
    {
      "cell_type": "markdown",
      "source": [
        "#[실전] bs 크롤링"
      ],
      "metadata": {
        "id": "i-PtZC4qZ6Mf"
      }
    },
    {
      "cell_type": "code",
      "source": [
        "# 라이브러리 설치\n",
        "import csv\n",
        "import requests\n",
        "from urllib.request import urlopen\n",
        "from urllib.parse import quote_plus\n",
        "from bs4 import BeautifulSoup"
      ],
      "metadata": {
        "id": "Eua0d-yNZ6Mg"
      },
      "execution_count": null,
      "outputs": []
    },
    {
      "cell_type": "markdown",
      "source": [
        "**quote_plus** : URL에 한글이 포함되어있는 경우, 한글이 깨지는 것을 해결하기 위해 사용한다.\n",
        "\n",
        "\n",
        "> urllib.parse.quote_plus(string, safe='', encoding=None, errors=None)\n",
        "quote()와 유사하지만, URL로 이동하기 위한 쿼리 문자열을 만들 때 HTML 폼값을 인용하는 데 필요한 대로 스페이스를 더하기 부호로 치환하기도 합니다. safe에 포함되지 않으면 원래 문자열의 더하기 부호가 이스케이프 됩니다. 또한 safe의 기본값은 '/'가 아닙니다.\n",
        "\n",
        "예: quote_plus('/El Niño/')는 '%2FEl+Ni%C3%B1o%2F'를 산출합니다.\n",
        "\n",
        "\n",
        "\n",
        "[참고] https://docs.python.org/ko/3.8/library/urllib.parse.html#url-quoting"
      ],
      "metadata": {
        "id": "SVWiGPEOZ6Mi"
      }
    },
    {
      "cell_type": "code",
      "source": [
        "url = 'https://m.ad.search.naver.com/search.naver?sm=&where=m_expd&query=' ## 파워링크 기본(모바일) url\n",
        "keyword = input(\"크롤링할 키워드를 입력하세요 =>\")\n",
        "#keywords = input(\"크롤링할 키워드를 띄어쓰기로 구분해 입력하세요\").split(\" \")\n",
        "base_url = url+quote_plus(keyword)\n",
        "\n",
        "response = requests.get(base_url)\n",
        "\n",
        "# 방법 2\n",
        "if response.status_code == 200:\n",
        "  soup = BeautifulSoup(response.content, 'html.parser')"
      ],
      "metadata": {
        "colab": {
          "base_uri": "https://localhost:8080/"
        },
        "outputId": "bb3c374d-8c14-434c-edb9-12d66aeff040",
        "id": "radI5355Z6Mi"
      },
      "execution_count": null,
      "outputs": [
        {
          "name": "stdout",
          "output_type": "stream",
          "text": [
            "크롤링할 키워드를 입력하세요 =>국가지원교육\n"
          ]
        }
      ]
    }
  ]
}